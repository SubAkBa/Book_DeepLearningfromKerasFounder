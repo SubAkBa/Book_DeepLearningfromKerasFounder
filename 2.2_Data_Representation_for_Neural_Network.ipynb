{
 "cells": [
  {
   "cell_type": "code",
   "execution_count": 6,
   "metadata": {
    "collapsed": false
   },
   "outputs": [
    {
     "data": {
      "text/plain": [
       "array(12)"
      ]
     },
     "execution_count": 6,
     "metadata": {},
     "output_type": "execute_result"
    }
   ],
   "source": [
    "# Tensor : 다차원 넘파이 배열\n",
    "\n",
    "# 2.2.1 스칼라(0D 텐서)\n",
    "# 하나의 숫자만 담고 있는 텐서로 넘파이에서는 float32나 float64 타입의 숫자가 스칼라 텐서이다.(또는 배열 스칼라(array scalar))\n",
    "# ndim 속성을 사용하여 넘파이 배열의 축 개수를 확인할 수 있다.\n",
    "# 스칼라 텐서의 축 개수는 0(ndim == 0), 텐서의 축 개수를 '랭크'라고도 부른다.\n",
    "import numpy as np\n",
    "x = np.array(12)\n",
    "x"
   ]
  },
  {
   "cell_type": "code",
   "execution_count": 7,
   "metadata": {
    "collapsed": false
   },
   "outputs": [
    {
     "data": {
      "text/plain": [
       "0"
      ]
     },
     "execution_count": 7,
     "metadata": {},
     "output_type": "execute_result"
    }
   ],
   "source": [
    "x.ndim"
   ]
  },
  {
   "cell_type": "code",
   "execution_count": 8,
   "metadata": {
    "collapsed": false
   },
   "outputs": [
    {
     "data": {
      "text/plain": [
       "array([12,  3,  6, 14,  7])"
      ]
     },
     "execution_count": 8,
     "metadata": {},
     "output_type": "execute_result"
    }
   ],
   "source": [
    "# 2.2.2 벡터(1D 텐서)\n",
    "# 숫자의 배열을 '벡터(Vector)' 또는 '1D 텐서'라고 부른다. 하나의 축을 가지며 벡터를 표현하면 다음과 같다.\n",
    "x = np.array([12, 3, 6, 14, 7])\n",
    "x\n",
    "\n",
    "# 5개의 원소를 가지고 있으므로 5차원 벡터라고 부른다.\n",
    "# 5D 벡터 : 하나의 축을 따라 5개의 차원을 가진 것\n",
    "# 5D 텐서 : 5개의 축을 가진 것.\n",
    "# 차원 수 ? : 특정 축을 따라 놓인 원소의 개수(5D 벡터와 같은 경우)이거나 텐서의 축 개수(5D 텐서와 같은 경우)를 의미\n",
    "# 후자의 경우 랭크 5인 텐서라고 말하는것이 기술적으로 정확하다.(텐서의 랭크가 축의 개수)"
   ]
  },
  {
   "cell_type": "code",
   "execution_count": 10,
   "metadata": {
    "collapsed": false
   },
   "outputs": [
    {
     "data": {
      "text/plain": [
       "1"
      ]
     },
     "execution_count": 10,
     "metadata": {},
     "output_type": "execute_result"
    }
   ],
   "source": [
    "x.ndim"
   ]
  },
  {
   "cell_type": "code",
   "execution_count": 12,
   "metadata": {
    "collapsed": false
   },
   "outputs": [
    {
     "data": {
      "text/plain": [
       "array([[ 5, 78,  2, 34,  0],\n",
       "       [ 6, 79,  3, 35,  1],\n",
       "       [ 7, 80,  4, 36,  2]])"
      ]
     },
     "execution_count": 12,
     "metadata": {},
     "output_type": "execute_result"
    }
   ],
   "source": [
    "# 2.2.3 행렬(2D 텐서)\n",
    "# 벡터의 배열이 '행렬(Matrix)' 또는 2D 텐서이다.\n",
    "# 행렬에는 2개의 축이 있다. (행(row), 열(column))\n",
    "x = np.array([[5, 78, 2, 34, 0],\n",
    "             [6, 79, 3, 35, 1],\n",
    "            [7, 80, 4, 36, 2]])\n",
    "x\n",
    "# 첫 번째 행 : [5, 78, 2, 34, 0]\n",
    "# 첫 번째 열 : [5, 6, 7]"
   ]
  },
  {
   "cell_type": "code",
   "execution_count": 13,
   "metadata": {
    "collapsed": false
   },
   "outputs": [
    {
     "data": {
      "text/plain": [
       "2"
      ]
     },
     "execution_count": 13,
     "metadata": {},
     "output_type": "execute_result"
    }
   ],
   "source": [
    "x.ndim"
   ]
  },
  {
   "cell_type": "code",
   "execution_count": 15,
   "metadata": {
    "collapsed": false
   },
   "outputs": [
    {
     "data": {
      "text/plain": [
       "array([[[ 5, 78,  2, 34,  0],\n",
       "        [ 6, 79,  3, 35,  1],\n",
       "        [ 7, 80,  4, 36,  2]],\n",
       "\n",
       "       [[ 5, 78,  2, 34,  0],\n",
       "        [ 6, 79,  3, 35,  1],\n",
       "        [ 7, 80,  4, 36,  2]],\n",
       "\n",
       "       [[ 5, 78,  2, 34,  0],\n",
       "        [ 6, 79,  3, 35,  1],\n",
       "        [ 7, 80,  4, 36,  2]]])"
      ]
     },
     "execution_count": 15,
     "metadata": {},
     "output_type": "execute_result"
    }
   ],
   "source": [
    "# 2.2.4 3D 텐서와 고차원 텐서\n",
    "# 행렬들을 하나의 새로운 배열로 합치면 숫자가 채워진 직육면체 형태로 해석 할수 있다.\n",
    "x = np.array([[[5, 78, 2, 34, 0], [6, 79, 3, 35, 1], [7, 80, 4, 36, 2]], \n",
    "              [[5, 78, 2, 34, 0], [6, 79, 3, 35, 1], [7, 80, 4, 36, 2]],\n",
    "              [[5, 78, 2, 34, 0], [6, 79, 3, 35, 1], [7, 80, 4, 36, 2]]])\n",
    "x"
   ]
  },
  {
   "cell_type": "code",
   "execution_count": 17,
   "metadata": {
    "collapsed": false
   },
   "outputs": [
    {
     "data": {
      "text/plain": [
       "3"
      ]
     },
     "execution_count": 17,
     "metadata": {},
     "output_type": "execute_result"
    }
   ],
   "source": [
    "x.ndim"
   ]
  },
  {
   "cell_type": "code",
   "execution_count": 26,
   "metadata": {
    "collapsed": false
   },
   "outputs": [
    {
     "name": "stdout",
     "output_type": "stream",
     "text": [
      "3\n",
      "(60000, 28, 28)\n",
      "uint8\n"
     ]
    },
    {
     "data": {
      "image/png": "[encoded data removed]",
      "text/plain": [
       "<matplotlib.figure.Figure at 0x28d4db30c18>"
      ]
     },
     "metadata": {},
     "output_type": "display_data"
    }
   ],
   "source": [
    "# 2.2.5 핵심 속성\n",
    "# (1) 축의 개수(랭크) : 3D 텐서에는 3개의 축, 행렬에는 2개의 축 (ndim을 통해 확인)\n",
    "# (2) 크기(Shape) : 텐서의 각 축을 따라 얼마나 많은 차원이 있는지를 나타낸 파이썬의 투플\n",
    "#                   ex) 위의 행렬의 크기는(3, 5), 3D 텐서의 크기는 (3, 3, 5), 벡터의 크기는 (5, )처럼 1개의 원소로 이루어졌다.\n",
    "# (3) 데이터 타입(dtype) : 텐서에 포함된 데이터의 타입 ex) float32, float64, uint8 ...\n",
    "\n",
    "from keras.datasets import mnist\n",
    "(train_images, train_labels), (test_images, test_labels) = mnist.load_data()\n",
    "\n",
    "# train_images 배열의 축의 개수 확인\n",
    "print(train_images.ndim)\n",
    "print(train_images.shape)\n",
    "print(train_images.dtype) # uint8 : 8비트 정수형 3D 텐서 (좀 더 정확하게는 28 * 28 크기의 정수 행렬 6만 개가 있는 배열)\n",
    "\n",
    "# 다섯 번째 샘플을 Matplotlib library 사용해서 확인\n",
    "digit = train_images[4]\n",
    "\n",
    "import matplotlib.pyplot as plt\n",
    "\n",
    "plt.imshow(digit, cmap = plt.cm.binary)\n",
    "plt.show()"
   ]
  },
  {
   "cell_type": "code",
   "execution_count": 27,
   "metadata": {
    "collapsed": false
   },
   "outputs": [
    {
     "name": "stdout",
     "output_type": "stream",
     "text": [
      "(90, 28, 28)\n"
     ]
    }
   ],
   "source": [
    "# 2.2.6 넘파이로 텐서 조작하기\n",
    "# 슬라이싱(Slicing) : 배열에 있는 특정 원소들을 선택하는 것\n",
    "my_slice = train_images[10 : 100] # 동일한 표현들 : train_images[10 : 100, :, :], train_images[10 : 100, 0 : 28, 0 : 28]\n",
    "print(my_slice.shape)\n",
    "\n",
    "# 음수 인덱스 : 축의 끝에서 상대적인 위치를 나타낸다.\n",
    "# my_slice = train_images[:, 7 : -7, 7 : -7] -> 14 * 14 픽셀 조각을 이미지에서 잘라낸다."
   ]
  }
 ],
 "metadata": {
  "kernelspec": {
   "display_name": "Python [conda env:tensorflow]",
   "language": "python",
   "name": "conda-env-tensorflow-py"
  },
  "language_info": {
   "codemirror_mode": {
    "name": "ipython",
    "version": 3
   },
   "file_extension": ".py",
   "mimetype": "text/x-python",
   "name": "python",
   "nbconvert_exporter": "python",
   "pygments_lexer": "ipython3",
   "version": "3.5.4"
  }
 },
 "nbformat": 4,
 "nbformat_minor": 1
}
