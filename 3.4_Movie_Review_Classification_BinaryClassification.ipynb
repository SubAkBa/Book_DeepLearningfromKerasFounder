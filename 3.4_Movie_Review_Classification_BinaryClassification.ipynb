{
 "cells": [
  {
   "cell_type": "code",
   "execution_count": 4,
   "metadata": {
    "collapsed": false
   },
   "outputs": [
    {
     "name": "stderr",
     "output_type": "stream",
     "text": [
      "Using TensorFlow backend.\n"
     ]
    },
    {
     "name": "stdout",
     "output_type": "stream",
     "text": [
      "[1, 14, 22, 16, 43, 530, 973, 1622, 1385, 65, 458, 4468, 66, 3941, 4, 173, 36, 256, 5, 25, 100, 43, 838, 112, 50, 670, 2, 9, 35, 480, 284, 5, 150, 4, 172, 112, 167, 2, 336, 385, 39, 4, 172, 4536, 1111, 17, 546, 38, 13, 447, 4, 192, 50, 16, 6, 147, 2025, 19, 14, 22, 4, 1920, 4613, 469, 4, 22, 71, 87, 12, 16, 43, 530, 38, 76, 15, 13, 1247, 4, 22, 17, 515, 17, 12, 16, 626, 18, 2, 5, 62, 386, 12, 8, 316, 8, 106, 5, 4, 2223, 5244, 16, 480, 66, 3785, 33, 4, 130, 12, 16, 38, 619, 5, 25, 124, 51, 36, 135, 48, 25, 1415, 33, 6, 22, 12, 215, 28, 77, 52, 5, 14, 407, 16, 82, 2, 8, 4, 107, 117, 5952, 15, 256, 4, 2, 7, 3766, 5, 723, 36, 71, 43, 530, 476, 26, 400, 317, 46, 7, 4, 2, 1029, 13, 104, 88, 4, 381, 15, 297, 98, 32, 2071, 56, 26, 141, 6, 194, 7486, 18, 4, 226, 22, 21, 134, 476, 26, 480, 5, 144, 30, 5535, 18, 51, 36, 28, 224, 92, 25, 104, 4, 226, 65, 16, 38, 1334, 88, 12, 16, 283, 5, 16, 4472, 113, 103, 32, 15, 16, 5345, 19, 178, 32]\n",
      "1\n"
     ]
    }
   ],
   "source": [
    "# 3.4.1 IMDB 데이터셋\n",
    "# Internet Movie Database의 데이터로 리뷰 5만 개로 이루어져 있다.\n",
    "# 데이터 셋은 train set 2만 5천개와 test set 2만 5천개로 나뉘어 있고 50% 부정, 50% 긍정 리뷰로 구성되어 있다.\n",
    "\n",
    "# 데이터 셋 로드\n",
    "from keras.datasets import imdb\n",
    "\n",
    "(train_data, train_labels), (test_data, test_labels) = imdb.load_data(num_words = 10000)\n",
    "                                                                      # num_words = 10000은 훈련 데이터에서 가장 자주 나타나는 단어 1만 개만\n",
    "                                                                      #             사용하겠다는 의미.\n",
    "                                                                      # _labels : 0 = 부정, 1 = 긍정\n",
    "print(train_data[0])\n",
    "print(train_labels[0])"
   ]
  },
  {
   "cell_type": "code",
   "execution_count": 5,
   "metadata": {
    "collapsed": false
   },
   "outputs": [
    {
     "data": {
      "text/plain": [
       "array([0., 1., 1., ..., 0., 0., 0.])"
      ]
     },
     "execution_count": 5,
     "metadata": {},
     "output_type": "execute_result"
    }
   ],
   "source": [
    "# 3.4.2 데이터 준비\n",
    "# 리스트를 텐서로 바꾸는 방법\n",
    "# (1) 같은 길이가 되도록 리스트에 패딩을 추가하고 (samples, sequence_length) 크기의 정수 텐서로 변환한다.\n",
    "#     그리고 이 정수 텐서를 다룰 수 있는 층을 신경망의 첫 번째 층으로 사용한다.\n",
    "# (2) 리스트를 원-핫 인코딩하여 0과 1의 벡터로 변환한다.\n",
    "#     그 후, 부동 소수 벡터 데이터를 다룰 수 있는 Dense 층을 신경망의 첫 번째 층으로 사용한다.\n",
    "import numpy as np\n",
    "\n",
    "def vectorize_sequences(sequences, dimension = 10000):\n",
    "    results = np.zeros((len(sequences), dimension)) # 크기가 (len(sequences), dimension)이고 모든 원소가 0인 행렬을 만든다.\n",
    "    for i, sequence in enumerate(sequences):\n",
    "        results[i, sequence] = 1. # results[i]에서 특정 인덱스의 위치를 1로 만든다.\n",
    "        \n",
    "    return results\n",
    "\n",
    "x_train = vectorize_sequences(train_data)\n",
    "x_test = vectorize_sequences(test_data)\n",
    "\n",
    "y_train = np.asarray(train_labels).astype(\"float32\")\n",
    "y_test = np.asarray(test_labels).astype(\"float32\")\n",
    "\n",
    "x_train[0]"
   ]
  },
  {
   "cell_type": "code",
   "execution_count": 6,
   "metadata": {
    "collapsed": false
   },
   "outputs": [
    {
     "name": "stdout",
     "output_type": "stream",
     "text": [
      "WARNING:tensorflow:From C:\\Users\\sonwo\\Anaconda3\\envs\\tensorkeras\\lib\\site-packages\\tensorflow\\python\\framework\\op_def_library.py:263: colocate_with (from tensorflow.python.framework.ops) is deprecated and will be removed in a future version.\n",
      "Instructions for updating:\n",
      "Colocations handled automatically by placer.\n"
     ]
    }
   ],
   "source": [
    "# 3.4.3 신경망 모델 만들기\n",
    "# (1) 얼마나 많은 층을 사용할 것인가?\n",
    "# (2) 각 층에 얼마나 많은 은닉 유닛을 둘 것인가?\n",
    "from keras import models\n",
    "from keras import layers\n",
    "\n",
    "model = models.Sequential()\n",
    "model.add(layers.Dense(16, activation = \"relu\", input_shape = (10000, )))\n",
    "model.add(layers.Dense(16, activation = \"relu\"))\n",
    "model.add(layers.Dense(1, activation = \"sigmoid\"))\n",
    "\n",
    "# 활성화 함수 사용 이유? : 가설 공간을 풍부하게 만들어 층을 깊게 만드는 장점을 살리기 위해서\n",
    "\n",
    "model.compile(optimizer = \"rmsprop\", loss = \"binary_crossentropy\", metrics = [\"accuracy\"])\n",
    "# 객체를 직접 만들어 전달\n",
    "# from keras import optimizers\n",
    "# from keras import losses\n",
    "# from keras import metrics\n",
    "# model.compile(optimizer = optimizers.RMSprop(lr = 0.001),\n",
    "#              loss = losses.binary_crossentropy,\n",
    "#              metrics = [metrics.binary_accuracy])"
   ]
  },
  {
   "cell_type": "code",
   "execution_count": 7,
   "metadata": {
    "collapsed": false
   },
   "outputs": [
    {
     "name": "stdout",
     "output_type": "stream",
     "text": [
      "WARNING:tensorflow:From C:\\Users\\sonwo\\Anaconda3\\envs\\tensorkeras\\lib\\site-packages\\tensorflow\\python\\ops\\math_ops.py:3066: to_int32 (from tensorflow.python.ops.math_ops) is deprecated and will be removed in a future version.\n",
      "Instructions for updating:\n",
      "Use tf.cast instead.\n",
      "Train on 15000 samples, validate on 10000 samples\n",
      "Epoch 1/20\n",
      "15000/15000 [==============================] - 29s 2ms/step - loss: 0.4976 - acc: 0.7951 - val_loss: 0.3718 - val_acc: 0.8718\n",
      "Epoch 2/20\n",
      "15000/15000 [==============================] - 10s 657us/step - loss: 0.2958 - acc: 0.9045 - val_loss: 0.2991 - val_acc: 0.8910\n",
      "Epoch 3/20\n",
      "15000/15000 [==============================] - 7s 494us/step - loss: 0.2160 - acc: 0.9285 - val_loss: 0.3081 - val_acc: 0.8721\n",
      "Epoch 4/20\n",
      "15000/15000 [==============================] - 7s 461us/step - loss: 0.1740 - acc: 0.9435 - val_loss: 0.2828 - val_acc: 0.8848\n",
      "Epoch 5/20\n",
      "15000/15000 [==============================] - 7s 482us/step - loss: 0.1413 - acc: 0.9542 - val_loss: 0.2862 - val_acc: 0.8853\n",
      "Epoch 6/20\n",
      "15000/15000 [==============================] - 9s 569us/step - loss: 0.1142 - acc: 0.9653 - val_loss: 0.3103 - val_acc: 0.8808\n",
      "Epoch 7/20\n",
      "15000/15000 [==============================] - 8s 524us/step - loss: 0.0970 - acc: 0.9713 - val_loss: 0.3146 - val_acc: 0.8838\n",
      "Epoch 8/20\n",
      "15000/15000 [==============================] - 7s 485us/step - loss: 0.0802 - acc: 0.9765 - val_loss: 0.3871 - val_acc: 0.8659\n",
      "Epoch 9/20\n",
      "15000/15000 [==============================] - 8s 541us/step - loss: 0.0658 - acc: 0.9821 - val_loss: 0.3651 - val_acc: 0.8781\n",
      "Epoch 10/20\n",
      "15000/15000 [==============================] - 8s 516us/step - loss: 0.0553 - acc: 0.9849 - val_loss: 0.3863 - val_acc: 0.8789\n",
      "Epoch 11/20\n",
      "15000/15000 [==============================] - 8s 502us/step - loss: 0.0454 - acc: 0.9884 - val_loss: 0.4182 - val_acc: 0.8765\n",
      "Epoch 12/20\n",
      "15000/15000 [==============================] - 10s 660us/step - loss: 0.0385 - acc: 0.9912 - val_loss: 0.4523 - val_acc: 0.8697\n",
      "Epoch 13/20\n",
      "15000/15000 [==============================] - 9s 579us/step - loss: 0.0297 - acc: 0.9939 - val_loss: 0.4717 - val_acc: 0.8737\n",
      "Epoch 14/20\n",
      "15000/15000 [==============================] - 7s 437us/step - loss: 0.0243 - acc: 0.9949 - val_loss: 0.5027 - val_acc: 0.8721\n",
      "Epoch 15/20\n",
      "15000/15000 [==============================] - 7s 473us/step - loss: 0.0184 - acc: 0.9974 - val_loss: 0.5320 - val_acc: 0.8693\n",
      "Epoch 16/20\n",
      "15000/15000 [==============================] - 7s 461us/step - loss: 0.0155 - acc: 0.9983 - val_loss: 0.5702 - val_acc: 0.8693\n",
      "Epoch 17/20\n",
      "15000/15000 [==============================] - 7s 434us/step - loss: 0.0154 - acc: 0.9973 - val_loss: 0.5998 - val_acc: 0.8685\n",
      "Epoch 18/20\n",
      "15000/15000 [==============================] - 6s 428us/step - loss: 0.0090 - acc: 0.9992 - val_loss: 0.6742 - val_acc: 0.8633\n",
      "Epoch 19/20\n",
      "15000/15000 [==============================] - 6s 426us/step - loss: 0.0062 - acc: 0.9998 - val_loss: 0.7118 - val_acc: 0.8572\n",
      "Epoch 20/20\n",
      "15000/15000 [==============================] - 7s 485us/step - loss: 0.0094 - acc: 0.9981 - val_loss: 0.6967 - val_acc: 0.8649\n"
     ]
    }
   ],
   "source": [
    "# 3.4.4 훈련 검증\n",
    "\n",
    "# 검증 세트 준비하기\n",
    "x_val = x_train[ : 10000]\n",
    "partial_x_train = x_train[10000 : ]\n",
    "y_val = y_train[ : 10000]\n",
    "partial_y_train = y_train[10000 : ]\n",
    "\n",
    "# 모델 훈련하기\n",
    "model.compile(optimizer = \"rmsprop\", loss = \"binary_crossentropy\", metrics = [\"acc\"])\n",
    "history = model.fit(partial_x_train, partial_y_train, epochs = 20, batch_size = 512, validation_data = (x_val, y_val))"
   ]
  },
  {
   "cell_type": "code",
   "execution_count": 9,
   "metadata": {
    "collapsed": false
   },
   "outputs": [
    {
     "data": {
      "image/png": "[encoded data removed]",
      "text/plain": [
       "<Figure size 432x288 with 1 Axes>"
      ]
     },
     "metadata": {},
     "output_type": "display_data"
    }
   ],
   "source": [
    "# 훈련과 검증 손실 그리기\n",
    "import matplotlib.pyplot as plt\n",
    "\n",
    "history_dict = history.history\n",
    "loss = history_dict['loss']\n",
    "val_loss = history_dict['val_loss']\n",
    "\n",
    "epochs = range(1, len(loss)  + 1)\n",
    "\n",
    "plt.plot(epochs, loss, 'bo', label = \"Training loss\") # bo는 파란색 점\n",
    "plt.plot(epochs, val_loss, 'b', label = \"Validation loss\") # b는 파란색 실선\n",
    "plt.title(\"Training and validation loss\")\n",
    "plt.xlabel(\"Epochs\")\n",
    "plt.ylabel(\"Loss\")\n",
    "plt.legend()\n",
    "\n",
    "plt.show()"
   ]
  },
  {
   "cell_type": "code",
   "execution_count": 10,
   "metadata": {
    "collapsed": false
   },
   "outputs": [
    {
     "data": {
      "image/png": "[encoded data removed]",
      "text/plain": [
       "<Figure size 432x288 with 1 Axes>"
      ]
     },
     "metadata": {},
     "output_type": "display_data"
    }
   ],
   "source": [
    "# 훈련과 검증 정확도 그리기\n",
    "plt.clf() # 그래프를 초기화 한다.\n",
    "acc = history_dict[\"acc\"]\n",
    "val_acc = histroy_dict[\"val_acc\"]\n",
    "\n",
    "plt.plot(epochs, acc, \"bo\", label = \"Training acc\")\n",
    "plt.plot(epochs, val_acc, \"b\", label = \"Validation acc\")\n",
    "plt.title(\"Training and validation accuracy\")\n",
    "plt.xlabel(\"Epochs\")\n",
    "plt.ylabel(\"Accuracy\")\n",
    "plt.legend()\n",
    "\n",
    "plt.show()\n",
    "\n",
    "# 네 번째 epoch에서 그래프가 역전 된다.\n",
    "# 이유? : 과대적합으로 판단"
   ]
  },
  {
   "cell_type": "code",
   "execution_count": 11,
   "metadata": {
    "collapsed": false
   },
   "outputs": [
    {
     "name": "stdout",
     "output_type": "stream",
     "text": [
      "Epoch 1/4\n",
      "25000/25000 [==============================] - 18s 735us/step - loss: 0.4751 - acc: 0.8213\n",
      "Epoch 2/4\n",
      "25000/25000 [==============================] - 26s 1ms/step - loss: 0.2655 - acc: 0.9098\n",
      "Epoch 3/4\n",
      "25000/25000 [==============================] - 18s 730us/step - loss: 0.1984 - acc: 0.9300\n",
      "Epoch 4/4\n",
      "25000/25000 [==============================] - 13s 521us/step - loss: 0.1676 - acc: 0.9405\n",
      "25000/25000 [==============================] - 25s 994us/step\n"
     ]
    },
    {
     "data": {
      "text/plain": [
       "[0.32026989517688753, 0.87396]"
      ]
     },
     "execution_count": 11,
     "metadata": {},
     "output_type": "execute_result"
    }
   ],
   "source": [
    "# 모델을 처음부터 다시 훈련하기\n",
    "model = models.Sequential()\n",
    "model.add(layers.Dense(16, activation = \"relu\", input_shape = (10000, )))\n",
    "model.add(layers.Dense(16, activation = \"relu\"))\n",
    "model.add(layers.Dense(1, activation = \"sigmoid\"))\n",
    "\n",
    "model.compile(optimizer = \"rmsprop\", loss = \"binary_crossentropy\", metrics = [\"acc\"])\n",
    "\n",
    "model.fit(x_train, y_train, epochs = 4, batch_size = 512)\n",
    "results = model.evaluate(x_test, y_test)\n",
    "\n",
    "results # 약 87%의 정확도를 달성했다."
   ]
  },
  {
   "cell_type": "code",
   "execution_count": 12,
   "metadata": {
    "collapsed": false
   },
   "outputs": [
    {
     "data": {
      "text/plain": [
       "array([[0.13978592],\n",
       "       [0.9997106 ],\n",
       "       [0.3210915 ],\n",
       "       ...,\n",
       "       [0.0749366 ],\n",
       "       [0.04470742],\n",
       "       [0.4785372 ]], dtype=float32)"
      ]
     },
     "execution_count": 12,
     "metadata": {},
     "output_type": "execute_result"
    }
   ],
   "source": [
    "# 3.4.5 훈련된 모델로 새로운 데이터에 대해 예측하기\n",
    "model.predict(x_test)"
   ]
  }
 ],
 "metadata": {
  "anaconda-cloud": {},
  "kernelspec": {
   "display_name": "TensorKeras",
   "language": "python",
   "name": "tensorkeras"
  }
 },
 "nbformat": 4,
 "nbformat_minor": 1
}
