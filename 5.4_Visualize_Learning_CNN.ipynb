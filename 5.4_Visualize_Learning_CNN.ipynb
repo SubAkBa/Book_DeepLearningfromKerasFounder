{
 "cells": [
  {
   "cell_type": "code",
   "execution_count": null,
   "metadata": {
    "collapsed": true
   },
   "outputs": [],
   "source": [
    "# 5.4.1 중간층의 활성화 시각화하기\n",
    "from keras.models import load_model\n",
    "model = load_model(\"cats_and_dogs_2.h5\")\n",
    "model.summary()\n",
    "\n",
    "# 네트워크를 훈련할 때 사용하지 않았던 고양이 이미지를 입력\n",
    "img_path = \"cats_and_dogs/test/cats/cat.1700.jpg\"\n",
    "\n",
    "from keras.preprocessing import image\n",
    "import numpy as np\n",
    "\n",
    "img = image.load_img(img_path, target_size = (150, 150))\n",
    "img_tensor = image.img_to_array(img)\n",
    "img_tensor = np.expand_dims(img_tensor, axis = 0) # 이미지를 4D 텐서로 변경한다.\n",
    "img_tensor /= 255. # 모델이 훈련될 때 입력에 적용한 전처리 방식을 동일하게 사용한다.\n",
    "\n",
    "print(img_tensor.shape) # 이미지 텐서의 크기는 (1, 150, 150, 3)이다.\n",
    "\n",
    "# 테스트 사진 출력\n",
    "import matplotlib.pyplot as plt\n",
    "\n",
    "plt.imshow(img_tensor[0])\n",
    "plt.show()"
   ]
  }
 ],
 "metadata": {
  "kernelspec": {
   "display_name": "TensorKeras",
   "language": "python",
   "name": "tensorkeras"
  },
  "language_info": {
   "codemirror_mode": {
    "name": "ipython",
    "version": 3
   },
   "file_extension": ".py",
   "mimetype": "text/x-python",
   "name": "python",
   "nbconvert_exporter": "python",
   "pygments_lexer": "ipython3",
   "version": "3.5.4"
  }
 },
 "nbformat": 4,
 "nbformat_minor": 1
}
